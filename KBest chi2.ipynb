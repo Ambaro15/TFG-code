{
 "cells": [
  {
   "cell_type": "code",
   "execution_count": 1,
   "id": "93200fc5",
   "metadata": {},
   "outputs": [],
   "source": [
    "import pandas as pd\n",
    "import numpy as np\n",
    "\n",
    "from sklearn import datasets\n",
    "from sklearn.linear_model import Ridge\n",
    "from sklearn.linear_model import BayesianRidge\n",
    "from sklearn.metrics import r2_score\n",
    "from sklearn.model_selection import GridSearchCV\n",
    "from sklearn.model_selection import train_test_split\n",
    "from sklearn.preprocessing import MinMaxScaler\n",
    "\n",
    "from sklearn.feature_selection import SelectKBest, chi2"
   ]
  },
  {
   "cell_type": "code",
   "execution_count": 2,
   "id": "9b99d27f",
   "metadata": {},
   "outputs": [
    {
     "name": "stderr",
     "output_type": "stream",
     "text": [
      "C:\\Users\\toled\\AppData\\Local\\Temp/ipykernel_11012/1073130396.py:6: FutureWarning: In a future version of pandas all arguments of DataFrame.drop except for the argument 'labels' will be keyword-only\n",
      "  dataset = dataset.drop('YEAR', 1)\n",
      "C:\\Users\\toled\\AppData\\Local\\Temp/ipykernel_11012/1073130396.py:7: FutureWarning: In a future version of pandas all arguments of DataFrame.drop except for the argument 'labels' will be keyword-only\n",
      "  dataset = dataset.drop('Team', 1)\n",
      "C:\\Users\\toled\\AppData\\Local\\Temp/ipykernel_11012/1073130396.py:8: FutureWarning: In a future version of pandas all arguments of DataFrame.drop except for the argument 'labels' will be keyword-only\n",
      "  dataset = dataset.drop('Arena', 1)\n",
      "C:\\Users\\toled\\AppData\\Local\\Temp/ipykernel_11012/1073130396.py:9: FutureWarning: In a future version of pandas all arguments of DataFrame.drop except for the argument 'labels' will be keyword-only\n",
      "  dataset = dataset.drop('Attend.', 1)\n",
      "C:\\Users\\toled\\AppData\\Local\\Temp/ipykernel_11012/1073130396.py:10: FutureWarning: In a future version of pandas all arguments of DataFrame.drop except for the argument 'labels' will be keyword-only\n",
      "  dataset = dataset.drop('PW', 1)\n",
      "C:\\Users\\toled\\AppData\\Local\\Temp/ipykernel_11012/1073130396.py:11: FutureWarning: In a future version of pandas all arguments of DataFrame.drop except for the argument 'labels' will be keyword-only\n",
      "  dataset = dataset.drop('L%', 1)\n",
      "C:\\Users\\toled\\AppData\\Local\\Temp/ipykernel_11012/1073130396.py:12: FutureWarning: In a future version of pandas all arguments of DataFrame.drop except for the argument 'labels' will be keyword-only\n",
      "  dataset = dataset.drop('PL', 1)\n",
      "C:\\Users\\toled\\AppData\\Local\\Temp/ipykernel_11012/1073130396.py:13: FutureWarning: In a future version of pandas all arguments of DataFrame.drop except for the argument 'labels' will be keyword-only\n",
      "  dataset = dataset.drop('Champion', 1)\n",
      "C:\\Users\\toled\\AppData\\Local\\Temp/ipykernel_11012/1073130396.py:14: FutureWarning: In a future version of pandas all arguments of DataFrame.drop except for the argument 'labels' will be keyword-only\n",
      "  dataset = dataset.drop('Rk', 1)\n"
     ]
    },
    {
     "data": {
      "text/html": [
       "<div>\n",
       "<style scoped>\n",
       "    .dataframe tbody tr th:only-of-type {\n",
       "        vertical-align: middle;\n",
       "    }\n",
       "\n",
       "    .dataframe tbody tr th {\n",
       "        vertical-align: top;\n",
       "    }\n",
       "\n",
       "    .dataframe thead th {\n",
       "        text-align: right;\n",
       "    }\n",
       "</style>\n",
       "<table border=\"1\" class=\"dataframe\">\n",
       "  <thead>\n",
       "    <tr style=\"text-align: right;\">\n",
       "      <th></th>\n",
       "      <th>G</th>\n",
       "      <th>MP</th>\n",
       "      <th>FG</th>\n",
       "      <th>FGA</th>\n",
       "      <th>FG%</th>\n",
       "      <th>3P</th>\n",
       "      <th>3PA</th>\n",
       "      <th>3P%</th>\n",
       "      <th>2P</th>\n",
       "      <th>2PA</th>\n",
       "      <th>...</th>\n",
       "      <th>3PAr</th>\n",
       "      <th>TS%</th>\n",
       "      <th>OFeFG%</th>\n",
       "      <th>OfTOV%</th>\n",
       "      <th>ORB%</th>\n",
       "      <th>Of FT/FGA</th>\n",
       "      <th>DEFeFG%</th>\n",
       "      <th>DefTOV%</th>\n",
       "      <th>DRB%</th>\n",
       "      <th>Def FT/FGA</th>\n",
       "    </tr>\n",
       "  </thead>\n",
       "  <tbody>\n",
       "    <tr>\n",
       "      <th>0</th>\n",
       "      <td>82</td>\n",
       "      <td>240.3</td>\n",
       "      <td>41.5</td>\n",
       "      <td>88.3</td>\n",
       "      <td>47.0</td>\n",
       "      <td>12.9</td>\n",
       "      <td>34.4</td>\n",
       "      <td>37.4</td>\n",
       "      <td>28.6</td>\n",
       "      <td>53.9</td>\n",
       "      <td>...</td>\n",
       "      <td>390</td>\n",
       "      <td>58.1</td>\n",
       "      <td>54.3</td>\n",
       "      <td>10.8</td>\n",
       "      <td>23.0</td>\n",
       "      <td>205</td>\n",
       "      <td>54.3</td>\n",
       "      <td>11.5</td>\n",
       "      <td>76.9</td>\n",
       "      <td>177</td>\n",
       "    </tr>\n",
       "    <tr>\n",
       "      <th>1</th>\n",
       "      <td>82</td>\n",
       "      <td>240.6</td>\n",
       "      <td>41.7</td>\n",
       "      <td>85.6</td>\n",
       "      <td>48.7</td>\n",
       "      <td>1.5</td>\n",
       "      <td>5.0</td>\n",
       "      <td>30.2</td>\n",
       "      <td>40.2</td>\n",
       "      <td>80.6</td>\n",
       "      <td>...</td>\n",
       "      <td>59</td>\n",
       "      <td>54.7</td>\n",
       "      <td>49.6</td>\n",
       "      <td>13.5</td>\n",
       "      <td>36.3</td>\n",
       "      <td>277</td>\n",
       "      <td>50.9</td>\n",
       "      <td>14.0</td>\n",
       "      <td>65.5</td>\n",
       "      <td>254</td>\n",
       "    </tr>\n",
       "    <tr>\n",
       "      <th>2</th>\n",
       "      <td>82</td>\n",
       "      <td>242.7</td>\n",
       "      <td>42.6</td>\n",
       "      <td>91.2</td>\n",
       "      <td>46.7</td>\n",
       "      <td>2.6</td>\n",
       "      <td>8.2</td>\n",
       "      <td>31.3</td>\n",
       "      <td>40.0</td>\n",
       "      <td>83.0</td>\n",
       "      <td>...</td>\n",
       "      <td>90</td>\n",
       "      <td>51.9</td>\n",
       "      <td>48.1</td>\n",
       "      <td>13.0</td>\n",
       "      <td>33.6</td>\n",
       "      <td>203</td>\n",
       "      <td>49.7</td>\n",
       "      <td>13.2</td>\n",
       "      <td>68.3</td>\n",
       "      <td>209</td>\n",
       "    </tr>\n",
       "    <tr>\n",
       "      <th>3</th>\n",
       "      <td>82</td>\n",
       "      <td>242.7</td>\n",
       "      <td>34.9</td>\n",
       "      <td>78.5</td>\n",
       "      <td>44.4</td>\n",
       "      <td>4.9</td>\n",
       "      <td>13.9</td>\n",
       "      <td>35.2</td>\n",
       "      <td>30.0</td>\n",
       "      <td>64.5</td>\n",
       "      <td>...</td>\n",
       "      <td>177</td>\n",
       "      <td>52.7</td>\n",
       "      <td>47.6</td>\n",
       "      <td>15.7</td>\n",
       "      <td>27.9</td>\n",
       "      <td>248</td>\n",
       "      <td>46.9</td>\n",
       "      <td>12.1</td>\n",
       "      <td>70.4</td>\n",
       "      <td>222</td>\n",
       "    </tr>\n",
       "    <tr>\n",
       "      <th>4</th>\n",
       "      <td>82</td>\n",
       "      <td>242.1</td>\n",
       "      <td>42.0</td>\n",
       "      <td>86.8</td>\n",
       "      <td>48.4</td>\n",
       "      <td>0.9</td>\n",
       "      <td>2.9</td>\n",
       "      <td>31.1</td>\n",
       "      <td>41.1</td>\n",
       "      <td>84.0</td>\n",
       "      <td>...</td>\n",
       "      <td>33</td>\n",
       "      <td>53.6</td>\n",
       "      <td>48.9</td>\n",
       "      <td>15.3</td>\n",
       "      <td>32.5</td>\n",
       "      <td>250</td>\n",
       "      <td>48.5</td>\n",
       "      <td>15.2</td>\n",
       "      <td>63.8</td>\n",
       "      <td>249</td>\n",
       "    </tr>\n",
       "  </tbody>\n",
       "</table>\n",
       "<p>5 rows × 41 columns</p>\n",
       "</div>"
      ],
      "text/plain": [
       "    G     MP    FG   FGA   FG%    3P   3PA   3P%    2P   2PA  ...  3PAr   TS%  \\\n",
       "0  82  240.3  41.5  88.3  47.0  12.9  34.4  37.4  28.6  53.9  ...   390  58.1   \n",
       "1  82  240.6  41.7  85.6  48.7   1.5   5.0  30.2  40.2  80.6  ...    59  54.7   \n",
       "2  82  242.7  42.6  91.2  46.7   2.6   8.2  31.3  40.0  83.0  ...    90  51.9   \n",
       "3  82  242.7  34.9  78.5  44.4   4.9  13.9  35.2  30.0  64.5  ...   177  52.7   \n",
       "4  82  242.1  42.0  86.8  48.4   0.9   2.9  31.1  41.1  84.0  ...    33  53.6   \n",
       "\n",
       "   OFeFG%  OfTOV%  ORB%  Of FT/FGA  DEFeFG%  DefTOV%  DRB%  Def FT/FGA  \n",
       "0    54.3    10.8  23.0        205     54.3     11.5  76.9         177  \n",
       "1    49.6    13.5  36.3        277     50.9     14.0  65.5         254  \n",
       "2    48.1    13.0  33.6        203     49.7     13.2  68.3         209  \n",
       "3    47.6    15.7  27.9        248     46.9     12.1  70.4         222  \n",
       "4    48.9    15.3  32.5        250     48.5     15.2  63.8         249  \n",
       "\n",
       "[5 rows x 41 columns]"
      ]
     },
     "execution_count": 2,
     "metadata": {},
     "output_type": "execute_result"
    }
   ],
   "source": [
    "# SELECCIÓN DEL MODELO Y ENTRENAMIENTO\n",
    "\n",
    "# Lectura del dataset\n",
    "\n",
    "dataset = pd.read_csv('C:/Users/toled/OneDrive/Documentos/MATEMÁTICAS/TFG/Dataset NBA.csv',sep=\";\", encoding=\"ISO 8859-1\")\n",
    "dataset = dataset.drop('YEAR', 1)\n",
    "dataset = dataset.drop('Team', 1)\n",
    "dataset = dataset.drop('Arena', 1)\n",
    "dataset = dataset.drop('Attend.', 1)\n",
    "dataset = dataset.drop('PW', 1)\n",
    "dataset = dataset.drop('L%', 1)\n",
    "dataset = dataset.drop('PL', 1)\n",
    "dataset = dataset.drop('Champion', 1)\n",
    "dataset = dataset.drop('Rk', 1)\n",
    "\n",
    "dataset.head()"
   ]
  },
  {
   "cell_type": "code",
   "execution_count": 4,
   "id": "ede95ab4",
   "metadata": {},
   "outputs": [],
   "source": [
    "# create a list of our conditions\n",
    "conditions = [\n",
    "    (dataset['W%'] <= 17/82),\n",
    "    (dataset['W%'] > 17/82) & (dataset['W%'] <= 25/82),\n",
    "    (dataset['W%'] > 25/82) & (dataset['W%'] <= 32/82),\n",
    "    (dataset['W%'] > 32/82) & (dataset['W%'] <= 38/82),\n",
    "    (dataset['W%'] > 38/82) & (dataset['W%'] <= 44/82),\n",
    "    (dataset['W%'] > 44/82) & (dataset['W%'] <= 51/82),\n",
    "    (dataset['W%'] > 51/82) & (dataset['W%'] <= 58/82),\n",
    "    (dataset['W%'] > 58/82) & (dataset['W%'] <= 65/82),\n",
    "    (dataset['W%'] > 65/82)\n",
    "    ]\n",
    "\n",
    "# create a list of the values we want to assign for each condition\n",
    "values = ['abysmal', 'tanking', 'poor', 'mediocre', 'decent','good','contender','top','goat']\n",
    "\n",
    "# create a new column and use np.select to assign values to it using our lists as arguments\n",
    "dataset['tier'] = np.select(conditions, values)"
   ]
  },
  {
   "cell_type": "code",
   "execution_count": 18,
   "id": "d5980b16",
   "metadata": {},
   "outputs": [],
   "source": [
    "# Preprocesado\n",
    "\n",
    "# Se separa la columna a predecir\n",
    "X = dataset.iloc[:,dataset.columns != 'W%']\n",
    "X = X.iloc[:,X.columns != 'tier']\n",
    "y = dataset.iloc[:,-1]\n",
    "#y = np.array([0]*1194)\n",
    "\n",
    "# En este ejemplo, se reescalan con un MinMaxScaler\n",
    "sc = MinMaxScaler()\n",
    "sc.fit(X) # Se ajusta el reescalador\n",
    "X = sc.transform(X)"
   ]
  },
  {
   "cell_type": "code",
   "execution_count": 19,
   "id": "6bc18711",
   "metadata": {},
   "outputs": [],
   "source": [
    "kb = SelectKBest(chi2, k=8).fit(X,y)"
   ]
  },
  {
   "cell_type": "code",
   "execution_count": 20,
   "id": "0a6c0bb3",
   "metadata": {},
   "outputs": [
    {
     "data": {
      "text/plain": [
       "array([False, False, False, False, False, False, False, False, False,\n",
       "       False,  True, False, False, False, False, False, False, False,\n",
       "       False, False, False, False, False,  True,  True,  True,  True,\n",
       "        True, False, False, False,  True,  True, False, False, False,\n",
       "       False, False, False, False])"
      ]
     },
     "execution_count": 20,
     "metadata": {},
     "output_type": "execute_result"
    }
   ],
   "source": [
    "kb.get_support()"
   ]
  },
  {
   "cell_type": "code",
   "execution_count": 21,
   "id": "c5b6851c",
   "metadata": {},
   "outputs": [
    {
     "name": "stderr",
     "output_type": "stream",
     "text": [
      "C:\\Users\\toled\\AppData\\Local\\Temp/ipykernel_11012/3765973981.py:1: FutureWarning: In a future version of pandas all arguments of DataFrame.drop except for the argument 'labels' will be keyword-only\n",
      "  dataset = dataset.drop('W%',1)\n",
      "C:\\Users\\toled\\AppData\\Local\\Temp/ipykernel_11012/3765973981.py:2: FutureWarning: In a future version of pandas all arguments of DataFrame.drop except for the argument 'labels' will be keyword-only\n",
      "  dataset = dataset.drop('tier',1)\n"
     ]
    },
    {
     "data": {
      "text/plain": [
       "Index(['G', 'MP', 'FG', 'FGA', 'FG%', '3P', '3PA', '3P%', '2P', '2PA', '2P%',\n",
       "       'FT', 'FTA', 'FT%', 'ORB', 'DRB', 'TRB', 'AST', 'STL', 'BLK', 'TOV',\n",
       "       'PF', 'PTS', 'Age', 'MOV', 'SOS', 'ORtg', 'DRtg', 'Pace', 'FTr', '3PAr',\n",
       "       'TS%', 'OFeFG%', 'OfTOV%', 'ORB%', 'Of FT/FGA', 'DEFeFG%', 'DefTOV%',\n",
       "       'DRB%', 'Def FT/FGA'],\n",
       "      dtype='object')"
      ]
     },
     "execution_count": 21,
     "metadata": {},
     "output_type": "execute_result"
    }
   ],
   "source": [
    "dataset = dataset.drop('W%',1)\n",
    "dataset = dataset.drop('tier',1)\n",
    "\n",
    "dataset.columns"
   ]
  },
  {
   "cell_type": "code",
   "execution_count": 22,
   "id": "aa0d1bb7",
   "metadata": {},
   "outputs": [
    {
     "data": {
      "text/plain": [
       "array([ 0.29721652,  3.20228996,  4.38517391,  0.51427548, 13.55024393,\n",
       "        2.64475165,  1.5904462 ,  1.46159657,  0.96872241,  1.21645451,\n",
       "       15.57663653,  2.1685361 ,  1.32607148,  2.37317861,  1.11647927,\n",
       "        7.25032558,  3.58307329,  6.8932232 ,  1.62138611,  3.52914726,\n",
       "        4.43204363,  3.0217801 ,  6.52484099, 19.29130136, 56.35035321,\n",
       "       15.12699639, 20.49757152, 17.70315758,  0.38061148,  2.0603868 ,\n",
       "        1.81282094, 18.35066054, 17.148788  ,  3.68117324,  0.75214744,\n",
       "        2.98621772, 12.70781985,  1.0230226 ,  3.43573735,  4.84749102])"
      ]
     },
     "execution_count": 22,
     "metadata": {},
     "output_type": "execute_result"
    }
   ],
   "source": [
    "kb.scores_"
   ]
  },
  {
   "cell_type": "code",
   "execution_count": 28,
   "id": "8cc0270d",
   "metadata": {},
   "outputs": [],
   "source": [
    "A = sum(kb.scores_)"
   ]
  },
  {
   "cell_type": "code",
   "execution_count": 27,
   "id": "2b709fb5",
   "metadata": {},
   "outputs": [],
   "source": [
    "B = 56.35035321+20.49757152+19.29130136+18.35066054+17.70315758+17.148788+15.57663653+15.12699639"
   ]
  },
  {
   "cell_type": "code",
   "execution_count": 29,
   "id": "80510b37",
   "metadata": {},
   "outputs": [
    {
     "data": {
      "text/plain": [
       "0.6264539496591334"
      ]
     },
     "execution_count": 29,
     "metadata": {},
     "output_type": "execute_result"
    }
   ],
   "source": [
    "B/A"
   ]
  },
  {
   "cell_type": "code",
   "execution_count": null,
   "id": "0f9222bd",
   "metadata": {},
   "outputs": [],
   "source": []
  }
 ],
 "metadata": {
  "kernelspec": {
   "display_name": "Python 3 (ipykernel)",
   "language": "python",
   "name": "python3"
  },
  "language_info": {
   "codemirror_mode": {
    "name": "ipython",
    "version": 3
   },
   "file_extension": ".py",
   "mimetype": "text/x-python",
   "name": "python",
   "nbconvert_exporter": "python",
   "pygments_lexer": "ipython3",
   "version": "3.9.7"
  }
 },
 "nbformat": 4,
 "nbformat_minor": 5
}
